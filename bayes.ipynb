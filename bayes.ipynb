{
 "cells": [
  {
   "cell_type": "code",
   "execution_count": 84,
   "metadata": {},
   "outputs": [],
   "source": [
    "from sympy import symbols, Function, Eq, solve, Integral, dsolve, sqrt, oo, factor\n",
    "from sympy import init_printing\n",
    "init_printing() "
   ]
  },
  {
   "cell_type": "code",
   "execution_count": 10,
   "metadata": {},
   "outputs": [
    {
     "data": {
      "text/latex": [
       "$\\displaystyle \\int \\frac{1}{\\sqrt{x}}\\, dx$"
      ],
      "text/plain": [
       "⌠      \n",
       "⎮ 1    \n",
       "⎮ ── dx\n",
       "⎮ √x   \n",
       "⌡      "
      ]
     },
     "execution_count": 10,
     "metadata": {},
     "output_type": "execute_result"
    }
   ],
   "source": [
    "# printing test\n",
    "x = symbols('x')\n",
    "Integral(1/sqrt(x))"
   ]
  },
  {
   "cell_type": "markdown",
   "metadata": {},
   "source": [
    "\"Everything is a probability distribution as a quantity you assume to know with arbitrary precision that can be described by a Dirac delta function.\""
   ]
  },
  {
   "cell_type": "markdown",
   "metadata": {},
   "source": [
    "### Deriving the marginal likelihood"
   ]
  },
  {
   "cell_type": "code",
   "execution_count": 27,
   "metadata": {},
   "outputs": [
    {
     "data": {
      "text/latex": [
       "$\\displaystyle \\left( \\theta, \\  Y, \\  p{\\left(\\theta,Y \\right)}, \\  p{\\left(Y,\\theta \\right)}, \\  p{\\left(\\theta \\right)}, \\  p{\\left(Y \\right)}\\right)$"
      ],
      "text/plain": [
       "(θ, Y, p(θ, Y), p(Y, θ), p(θ), p(Y))"
      ]
     },
     "execution_count": 27,
     "metadata": {},
     "output_type": "execute_result"
    }
   ],
   "source": [
    "theta, Y = symbols('theta Y', positive=True)\n",
    "p_theta_given_Y = Function('p')(theta, Y)\n",
    "p_y_given_theta = Function('p')(Y, theta)\n",
    "p_theta = Function('p')(theta)\n",
    "p_y = Function('p')(Y)\n",
    "# setup meaningful aliases\n",
    "\n",
    "theta, Y, p_theta_given_Y, p_y_given_theta, p_theta, p_y"
   ]
  },
  {
   "cell_type": "code",
   "execution_count": 33,
   "metadata": {},
   "outputs": [
    {
     "data": {
      "text/latex": [
       "$\\displaystyle p{\\left(\\theta,Y \\right)} = \\frac{p{\\left(\\theta \\right)} p{\\left(Y,\\theta \\right)}}{p{\\left(Y \\right)}}$"
      ],
      "text/plain": [
       "          p(θ)⋅p(Y, θ)\n",
       "p(θ, Y) = ────────────\n",
       "              p(Y)    "
      ]
     },
     "execution_count": 33,
     "metadata": {},
     "output_type": "execute_result"
    }
   ],
   "source": [
    "bayes_theorem = Eq(p_theta_given_Y, (p_y_given_theta * p_theta) / p_y)\n",
    "bayes_theorem"
   ]
  },
  {
   "cell_type": "code",
   "execution_count": 46,
   "metadata": {},
   "outputs": [
    {
     "data": {
      "text/latex": [
       "$\\displaystyle p{\\left(Y \\right)} = \\frac{p{\\left(\\theta \\right)} p{\\left(Y,\\theta \\right)}}{p{\\left(\\theta,Y \\right)}}$"
      ],
      "text/plain": [
       "       p(θ)⋅p(Y, θ)\n",
       "p(Y) = ────────────\n",
       "         p(θ, Y)   "
      ]
     },
     "execution_count": 46,
     "metadata": {},
     "output_type": "execute_result"
    }
   ],
   "source": [
    "p_y_solved = solve(bayes_theorem, p_y)[0]\n",
    "p_y_eq = Eq(p_y, p_y_solved)\n",
    "p_y_eq"
   ]
  },
  {
   "cell_type": "code",
   "execution_count": 69,
   "metadata": {},
   "outputs": [
    {
     "data": {
      "text/latex": [
       "$\\displaystyle p{\\left(Y \\right)} p{\\left(\\theta,Y \\right)} = p{\\left(\\theta \\right)} p{\\left(Y,\\theta \\right)}$"
      ],
      "text/plain": [
       "p(Y)⋅p(θ, Y) = p(θ)⋅p(Y, θ)"
      ]
     },
     "execution_count": 69,
     "metadata": {},
     "output_type": "execute_result"
    }
   ],
   "source": [
    "multiplied_eq = Eq(p_y_eq.lhs *p_theta_given_Y, p_theta_given_Y * p_y_eq.rhs)\n",
    "multiplied_eq"
   ]
  },
  {
   "cell_type": "code",
   "execution_count": 79,
   "metadata": {},
   "outputs": [
    {
     "data": {
      "text/latex": [
       "$\\displaystyle \\int\\limits_{-\\infty}^{\\infty} p{\\left(Y \\right)} p{\\left(\\theta,Y \\right)}\\, d\\theta = \\int\\limits_{-\\infty}^{\\infty} p{\\left(\\theta \\right)} p{\\left(Y,\\theta \\right)}\\, d\\theta$"
      ],
      "text/plain": [
       "∞                    ∞                 \n",
       "⌠                    ⌠                 \n",
       "⎮  p(Y)⋅p(θ, Y) dθ = ⎮  p(θ)⋅p(Y, θ) dθ\n",
       "⌡                    ⌡                 \n",
       "-∞                   -∞                "
      ]
     },
     "execution_count": 79,
     "metadata": {},
     "output_type": "execute_result"
    }
   ],
   "source": [
    "bounds = (theta, -oo, oo)\n",
    "integrated_eq = Eq(Integral(multiplied_eq.lhs, bounds), Integral(multiplied_eq.rhs, bounds), evaluate=False)\n",
    "integrated_eq"
   ]
  },
  {
   "cell_type": "code",
   "execution_count": 80,
   "metadata": {},
   "outputs": [
    {
     "data": {
      "text/latex": [
       "$\\displaystyle \\int\\limits_{-\\infty}^{\\infty} p{\\left(\\theta,Y \\right)}\\, d\\theta = 1$"
      ],
      "text/plain": [
       "∞                \n",
       "⌠                \n",
       "⎮  p(θ, Y) dθ = 1\n",
       "⌡                \n",
       "-∞               "
      ]
     },
     "execution_count": 80,
     "metadata": {},
     "output_type": "execute_result"
    }
   ],
   "source": [
    "# definition of normalization for a probability density function, i.e. p_theta_given_y\n",
    "normalization = Eq(Integral(p_theta_given_Y, bounds), 1, evaluate=False)\n",
    "normalization"
   ]
  },
  {
   "cell_type": "code",
   "execution_count": 85,
   "metadata": {},
   "outputs": [
    {
     "name": "stdout",
     "output_type": "stream",
     "text": [
      "Factored LHS: p(Y)*Integral(p(theta, Y), (theta, -oo, oo))\n",
      "New LHS: p(Y)\n"
     ]
    }
   ],
   "source": [
    "lhs = integrated_eq.lhs\n",
    "\n",
    "# Substitute the normalization term in the left-hand side\n",
    "factored_lhs = factor(lhs)\n",
    "new_lhs = factored_lhs.subs(normalization.lhs, normalization.rhs)\n",
    "print(\"Factored LHS:\", factored_lhs)\n",
    "print(\"New LHS:\", new_lhs)"
   ]
  },
  {
   "cell_type": "code",
   "execution_count": 86,
   "metadata": {},
   "outputs": [
    {
     "data": {
      "text/latex": [
       "$\\displaystyle p{\\left(Y \\right)} = \\int\\limits_{0}^{\\infty} p{\\left(\\theta \\right)} p{\\left(Y,\\theta \\right)}\\, d\\theta$"
      ],
      "text/plain": [
       "       ∞                \n",
       "       ⌠                \n",
       "p(Y) = ⎮ p(θ)⋅p(Y, θ) dθ\n",
       "       ⌡                \n",
       "       0                "
      ]
     },
     "execution_count": 86,
     "metadata": {},
     "output_type": "execute_result"
    }
   ],
   "source": [
    "arginal_likelihood = Eq(new_lhs, integrated_eq.rhs)\n",
    "marginal_likelihood"
   ]
  }
 ],
 "metadata": {
  "kernelspec": {
   "display_name": ".venv",
   "language": "python",
   "name": "python3"
  },
  "language_info": {
   "codemirror_mode": {
    "name": "ipython",
    "version": 3
   },
   "file_extension": ".py",
   "mimetype": "text/x-python",
   "name": "python",
   "nbconvert_exporter": "python",
   "pygments_lexer": "ipython3",
   "version": "3.12.2"
  }
 },
 "nbformat": 4,
 "nbformat_minor": 2
}
